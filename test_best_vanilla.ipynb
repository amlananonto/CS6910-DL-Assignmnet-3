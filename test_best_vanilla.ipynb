{
 "cells": [
  {
   "cell_type": "code",
   "execution_count": null,
   "id": "0e10106d-3533-43a2-a8bd-1fd11f38c148",
   "metadata": {},
   "outputs": [],
   "source": [
    "from src.translator import Translator\n",
    "import torch\n",
    "import random\n",
    "from src.helper import get_data\n",
    "\n",
    "random.seed()\n",
    "device = torch.device(\"cuda\" if torch.cuda.is_available() else \"cpu\")\n",
    "\n",
    "params = {\n",
    "    \"embed_size\": 16,\n",
    "    \"hidden_size\": 512,\n",
    "    \"cell_type\": \"LSTM\",\n",
    "    \"num_layers\": 2,\n",
    "    \"dropout\": 0.1,\n",
    "    \"learning_rate\": 0.005,\n",
    "    \"optimizer\": \"SGD\",\n",
    "    \"teacher_forcing_ratio\": 0.5,\n",
    "    \"max_length\": 50\n",
    "}\n",
    "\n",
    "model = Translator(\"tam\", params, device)\n",
    "\n",
    "model.encoder.load_state_dict(torch.load(\"./best_model_vanilla/encoder.pt\"))\n",
    "model.decoder.load_state_dict(torch.load(\"./best_model_vanilla/decoder.pt\"))\n",
    "\n",
    "with open(\"test_gen.txt\", \"w\") as f:\n",
    "    test_data = get_data(\"tam\", \"test\")\n",
    "    f.write(\"Input, Target, Output\\n\")\n",
    "    accuracy = 0\n",
    "    for i in range(len(test_data)):\n",
    "        f.write(test_data[i][0] + \", \" + test_data[i][1] + \", \" + model.evaluate(test_data[i][0]) + \"\\n\")\n",
    "        if test_data[i][1] == model.evaluate(test_data[i][0]):\n",
    "            accuracy += 1\n",
    "\n",
    "    print(\"Test Accuracy: \" + str(accuracy/len(test_data) * 100) + \"%\")"
   ]
  }
 ],
 "metadata": {
  "kernelspec": {
   "display_name": "Python 3 (ipykernel)",
   "language": "python",
   "name": "python3"
  },
  "language_info": {
   "codemirror_mode": {
    "name": "ipython",
    "version": 3
   },
   "file_extension": ".py",
   "mimetype": "text/x-python",
   "name": "python",
   "nbconvert_exporter": "python",
   "pygments_lexer": "ipython3",
   "version": "3.10.11"
  }
 },
 "nbformat": 4,
 "nbformat_minor": 5
}
